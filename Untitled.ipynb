{
 "cells": [
  {
   "cell_type": "code",
   "execution_count": 1,
   "id": "2242eb75",
   "metadata": {},
   "outputs": [],
   "source": [
    "import pandas as pd\n",
    "import tarfile"
   ]
  },
  {
   "cell_type": "code",
   "execution_count": 2,
   "id": "d4fe4415",
   "metadata": {},
   "outputs": [],
   "source": [
    "# treat empty strings and np.nan as NAm will impact dropna method\n",
    "pd.options.mode.use_inf_as_na = True\n",
    "# set Jupyter to display all output from a cell\n",
    "from IPython.core.interactiveshell import InteractiveShell\n",
    "InteractiveShell.ast_node_interactivity = 'all'"
   ]
  },
  {
   "cell_type": "code",
   "execution_count": 3,
   "id": "b7892e7e",
   "metadata": {},
   "outputs": [
    {
     "name": "stdout",
     "output_type": "stream",
     "text": [
      "df_allDocDetails_with_ranking.csv\n"
     ]
    }
   ],
   "source": [
    "# Read from downloaded file\n",
    "with tarfile.open(\"df_allDocDetails.tgz\", \"r:*\") as tar:\n",
    "    csv_path = tar.getnames()[1]\n",
    "    print(csv_path)\n",
    "    df = pd.read_csv(tar.extractfile(csv_path), header=0, sep=\",\")"
   ]
  },
  {
   "cell_type": "code",
   "execution_count": 4,
   "id": "8a9457e1",
   "metadata": {},
   "outputs": [
    {
     "data": {
      "text/plain": [
       "(577645, 13)"
      ]
     },
     "execution_count": 4,
     "metadata": {},
     "output_type": "execute_result"
    },
    {
     "data": {
      "text/plain": [
       "Index(['Doctors Link', 'Hospital', 'Location', 'Doctor', 'Broader Specialty',\n",
       "       'Specific Specialty', 'Bio', 'Language', 'Years of Experience',\n",
       "       'Languages', 'Hospital Link', 'Ranking', 'Type'],\n",
       "      dtype='object')"
      ]
     },
     "execution_count": 4,
     "metadata": {},
     "output_type": "execute_result"
    }
   ],
   "source": [
    "df.shape\n",
    "df.columns"
   ]
  },
  {
   "cell_type": "code",
   "execution_count": 5,
   "id": "9caabf66",
   "metadata": {},
   "outputs": [
    {
     "data": {
      "text/html": [
       "<div>\n",
       "<style scoped>\n",
       "    .dataframe tbody tr th:only-of-type {\n",
       "        vertical-align: middle;\n",
       "    }\n",
       "\n",
       "    .dataframe tbody tr th {\n",
       "        vertical-align: top;\n",
       "    }\n",
       "\n",
       "    .dataframe thead th {\n",
       "        text-align: right;\n",
       "    }\n",
       "</style>\n",
       "<table border=\"1\" class=\"dataframe\">\n",
       "  <thead>\n",
       "    <tr style=\"text-align: right;\">\n",
       "      <th></th>\n",
       "      <th>Doctors Link</th>\n",
       "      <th>Hospital</th>\n",
       "      <th>Location</th>\n",
       "      <th>Doctor</th>\n",
       "      <th>Broader Specialty</th>\n",
       "      <th>Specific Specialty</th>\n",
       "      <th>Bio</th>\n",
       "      <th>Language</th>\n",
       "      <th>Years of Experience</th>\n",
       "      <th>Languages</th>\n",
       "      <th>Hospital Link</th>\n",
       "      <th>Ranking</th>\n",
       "      <th>Type</th>\n",
       "    </tr>\n",
       "  </thead>\n",
       "  <tbody>\n",
       "    <tr>\n",
       "      <th>577309</th>\n",
       "      <td>https://health.usnews.com/best-hospitals/area/...</td>\n",
       "      <td>UMass Memorial Children's Medical Center</td>\n",
       "      <td>Worcester, MA</td>\n",
       "      <td>Dr. Lisa M. Hassler MD</td>\n",
       "      <td>Pediatrics</td>\n",
       "      <td>['General Pediatrics']</td>\n",
       "      <td>Dr. Lisa Hassler is a pediatrician in Southbor...</td>\n",
       "      <td>1.0</td>\n",
       "      <td>11-20</td>\n",
       "      <td>NaN</td>\n",
       "      <td>https://health.usnews.com/best-hospitals/area/...</td>\n",
       "      <td>NaN</td>\n",
       "      <td>NaN</td>\n",
       "    </tr>\n",
       "    <tr>\n",
       "      <th>44311</th>\n",
       "      <td>https://health.usnews.com/best-hospitals/area/...</td>\n",
       "      <td>AdventHealth Orlando</td>\n",
       "      <td>Orlando, FL</td>\n",
       "      <td>Dr. Jason D'Souza MD</td>\n",
       "      <td>Cardiology</td>\n",
       "      <td>['General Cardiology']</td>\n",
       "      <td>Dr. Jason D'Souza is a cardiologist in Orlando...</td>\n",
       "      <td>1.0</td>\n",
       "      <td>3-5</td>\n",
       "      <td>NaN</td>\n",
       "      <td>https://health.usnews.com/best-hospitals/area/...</td>\n",
       "      <td>53.0</td>\n",
       "      <td>Adult</td>\n",
       "    </tr>\n",
       "    <tr>\n",
       "      <th>570422</th>\n",
       "      <td>https://health.usnews.com/best-hospitals/area/...</td>\n",
       "      <td>Cincinnati Children's Hospital Medical Center</td>\n",
       "      <td>Cincinnati, OH</td>\n",
       "      <td>Dr. Erik W. Evans MD</td>\n",
       "      <td>Oral &amp; Maxillofacial Surgery</td>\n",
       "      <td>['Maxillofacial Trauma', 'Facial Cosmetic Surg...</td>\n",
       "      <td>Dr. Erik Evans is an oral and maxillofacial su...</td>\n",
       "      <td>1.0</td>\n",
       "      <td>11-20</td>\n",
       "      <td>NaN</td>\n",
       "      <td>https://health.usnews.com/best-hospitals/area/...</td>\n",
       "      <td>3.0</td>\n",
       "      <td>Chidren</td>\n",
       "    </tr>\n",
       "    <tr>\n",
       "      <th>277075</th>\n",
       "      <td>https://health.usnews.com/best-hospitals/area/...</td>\n",
       "      <td>Einstein Medical Center Philadelphia</td>\n",
       "      <td>Philadelphia, PA</td>\n",
       "      <td>Dr. Arturo J. Ferreira MD</td>\n",
       "      <td>Internal Medicine</td>\n",
       "      <td>['General Internal Medicine']</td>\n",
       "      <td>Dr. Arturo Ferreira is an internist in Philade...</td>\n",
       "      <td>1.0</td>\n",
       "      <td>21+</td>\n",
       "      <td>NaN</td>\n",
       "      <td>https://health.usnews.com/best-hospitals/area/...</td>\n",
       "      <td>434.0</td>\n",
       "      <td>Adult</td>\n",
       "    </tr>\n",
       "    <tr>\n",
       "      <th>416002</th>\n",
       "      <td>https://health.usnews.com/best-hospitals/area/...</td>\n",
       "      <td>St. Mark's Hospital</td>\n",
       "      <td>Salt Lake City, UT</td>\n",
       "      <td>Dr. John A. Berneike MD</td>\n",
       "      <td>Family Medicine</td>\n",
       "      <td>['General Family Medicine']</td>\n",
       "      <td>Dr. John Berneike is a family medicine doctor ...</td>\n",
       "      <td>1.0</td>\n",
       "      <td>11-20</td>\n",
       "      <td>NaN</td>\n",
       "      <td>https://health.usnews.com/best-hospitals/area/...</td>\n",
       "      <td>757.0</td>\n",
       "      <td>Adult</td>\n",
       "    </tr>\n",
       "  </tbody>\n",
       "</table>\n",
       "</div>"
      ],
      "text/plain": [
       "                                             Doctors Link  \\\n",
       "577309  https://health.usnews.com/best-hospitals/area/...   \n",
       "44311   https://health.usnews.com/best-hospitals/area/...   \n",
       "570422  https://health.usnews.com/best-hospitals/area/...   \n",
       "277075  https://health.usnews.com/best-hospitals/area/...   \n",
       "416002  https://health.usnews.com/best-hospitals/area/...   \n",
       "\n",
       "                                             Hospital            Location  \\\n",
       "577309       UMass Memorial Children's Medical Center       Worcester, MA   \n",
       "44311                            AdventHealth Orlando         Orlando, FL   \n",
       "570422  Cincinnati Children's Hospital Medical Center      Cincinnati, OH   \n",
       "277075           Einstein Medical Center Philadelphia    Philadelphia, PA   \n",
       "416002                            St. Mark's Hospital  Salt Lake City, UT   \n",
       "\n",
       "                           Doctor             Broader Specialty  \\\n",
       "577309     Dr. Lisa M. Hassler MD                    Pediatrics   \n",
       "44311        Dr. Jason D'Souza MD                    Cardiology   \n",
       "570422       Dr. Erik W. Evans MD  Oral & Maxillofacial Surgery   \n",
       "277075  Dr. Arturo J. Ferreira MD             Internal Medicine   \n",
       "416002    Dr. John A. Berneike MD               Family Medicine   \n",
       "\n",
       "                                       Specific Specialty  \\\n",
       "577309                             ['General Pediatrics']   \n",
       "44311                              ['General Cardiology']   \n",
       "570422  ['Maxillofacial Trauma', 'Facial Cosmetic Surg...   \n",
       "277075                      ['General Internal Medicine']   \n",
       "416002                        ['General Family Medicine']   \n",
       "\n",
       "                                                      Bio  Language  \\\n",
       "577309  Dr. Lisa Hassler is a pediatrician in Southbor...       1.0   \n",
       "44311   Dr. Jason D'Souza is a cardiologist in Orlando...       1.0   \n",
       "570422  Dr. Erik Evans is an oral and maxillofacial su...       1.0   \n",
       "277075  Dr. Arturo Ferreira is an internist in Philade...       1.0   \n",
       "416002  Dr. John Berneike is a family medicine doctor ...       1.0   \n",
       "\n",
       "       Years of Experience Languages  \\\n",
       "577309               11-20       NaN   \n",
       "44311                  3-5       NaN   \n",
       "570422               11-20       NaN   \n",
       "277075                 21+       NaN   \n",
       "416002               11-20       NaN   \n",
       "\n",
       "                                            Hospital Link  Ranking     Type  \n",
       "577309  https://health.usnews.com/best-hospitals/area/...      NaN      NaN  \n",
       "44311   https://health.usnews.com/best-hospitals/area/...     53.0    Adult  \n",
       "570422  https://health.usnews.com/best-hospitals/area/...      3.0  Chidren  \n",
       "277075  https://health.usnews.com/best-hospitals/area/...    434.0    Adult  \n",
       "416002  https://health.usnews.com/best-hospitals/area/...    757.0    Adult  "
      ]
     },
     "execution_count": 5,
     "metadata": {},
     "output_type": "execute_result"
    }
   ],
   "source": [
    "df.sample(5)"
   ]
  },
  {
   "cell_type": "code",
   "execution_count": 6,
   "id": "d9ca3220",
   "metadata": {},
   "outputs": [
    {
     "data": {
      "text/plain": [
       "Adult      499188\n",
       "Chidren     47639\n",
       "Name: Type, dtype: int64"
      ]
     },
     "execution_count": 6,
     "metadata": {},
     "output_type": "execute_result"
    }
   ],
   "source": [
    "df['Type'].value_counts()"
   ]
  },
  {
   "cell_type": "code",
   "execution_count": 9,
   "id": "6fb173cd",
   "metadata": {},
   "outputs": [
    {
     "data": {
      "text/plain": [
       "30818"
      ]
     },
     "execution_count": 9,
     "metadata": {},
     "output_type": "execute_result"
    }
   ],
   "source": [
    "577645-499188-47639"
   ]
  },
  {
   "cell_type": "code",
   "execution_count": 8,
   "id": "e01f1029",
   "metadata": {},
   "outputs": [
    {
     "data": {
      "text/plain": [
       "(577645, 13)"
      ]
     },
     "execution_count": 8,
     "metadata": {},
     "output_type": "execute_result"
    }
   ],
   "source": [
    "df.shape"
   ]
  },
  {
   "cell_type": "code",
   "execution_count": null,
   "id": "66a7d35f",
   "metadata": {},
   "outputs": [],
   "source": []
  }
 ],
 "metadata": {
  "kernelspec": {
   "display_name": "Python 3 (ipykernel)",
   "language": "python",
   "name": "python3"
  },
  "language_info": {
   "codemirror_mode": {
    "name": "ipython",
    "version": 3
   },
   "file_extension": ".py",
   "mimetype": "text/x-python",
   "name": "python",
   "nbconvert_exporter": "python",
   "pygments_lexer": "ipython3",
   "version": "3.9.7"
  }
 },
 "nbformat": 4,
 "nbformat_minor": 5
}
